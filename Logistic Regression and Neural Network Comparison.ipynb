{
 "cells": [
  {
   "cell_type": "markdown",
   "metadata": {},
   "source": [
    "# Logistic regression and neural network\n",
    "### Genesis Quiles-Galarza"
   ]
  },
  {
   "cell_type": "code",
   "execution_count": 1,
   "metadata": {},
   "outputs": [],
   "source": [
    "import time\n",
    "import numpy as np\n",
    "import matplotlib.pyplot as plt\n",
    "import scipy.stats as st\n",
    "from pyDOE import *\n",
    "import torch\n",
    "import torch.nn as nn\n",
    "import torchvision.transforms as transforms\n",
    "from sklearn.model_selection import train_test_split"
   ]
  },
  {
   "cell_type": "markdown",
   "metadata": {},
   "source": [
    "**Consider a data set for binary classification containing around 3500 labeled images with resolution $200×200$ pixels. To facilitate faster computations, here we provide a compressed version of the original image data that contains only the 10 most dominant features obtained via principal component analysis. For all the following questions, we're going to split the data set into training data and testing data. The training data set should contain 3/4 of the data and the testing data set should contain 1/4 of the data.**\n",
    "\n",
    "**We're going to implement a logistic regression model in PyTorch and report its testing and training accuracy.**\n"
   ]
  },
  {
   "cell_type": "code",
   "execution_count": 2,
   "metadata": {},
   "outputs": [],
   "source": [
    "class LogisticRegression:\n",
    "    def __init__(self,D_in,D_out):\n",
    "        # Glorot initializer\n",
    "        # Computes initial weights as a normal distribution and b=0\n",
    "        w = np.random.normal(0, np.sqrt(2./(D_in + D_out)), D_in*D_out)\n",
    "        b = np.zeros(D_out)\n",
    "        \n",
    "        self.w = (torch.from_numpy(w).type(torch.FloatTensor)).requires_grad_(True)\n",
    "        self.b = (torch.from_numpy(b).type(torch.FloatTensor)).requires_grad_(True)\n",
    "        self.loss_track = []\n",
    "        \n",
    "    def get_Loss(self,X,Y):\n",
    "        # Calculate the Binary Cross entropy loss\n",
    "        a = torch.sigmoid((torch.matmul(X,self.w) + self.b))\n",
    "        n = X.shape[0]\n",
    "        Loss =(Y*torch.log(a)).sum() + ((1-Y)*torch.log(1-a)).sum()\n",
    "        Loss = -(1/n)*Loss\n",
    "        return Loss\n",
    "    \n",
    "    def graddes(self,X,Y,lr,iterations):\n",
    "        # Calculate w and b using gradient descent\n",
    "        maxiter=iterations\n",
    "        gam=0.9\n",
    "        print('Beginning iterations...')\n",
    "        for i in range(0,maxiter):\n",
    "            err = self.get_Loss(X,Y)\n",
    "            err.backward()\n",
    "            with torch.no_grad():\n",
    "                self.w -=lr*self.w.grad\n",
    "                self.b -= lr*self.b.grad\n",
    "                self.w.grad.zero_()\n",
    "                self.b.grad.zero_()\n",
    "            err = err.data.numpy()\n",
    "            self.loss_track.append(err)\n",
    "        return err\n",
    "\n",
    "    def train(self,X,Y,lr,iterations):\n",
    "        # optimize to get weights \n",
    "        t = time.time()\n",
    "        err = self.graddes(X,Y,lr,iterations)\n",
    "        elapsed = time.time() - t\n",
    "        elapsed = np.around(elapsed,2)\n",
    "        print('Completed '+str(iterations)+' iterations. Time elapsed: '+str(elapsed) + 's')\n",
    "        return err\n",
    "\n",
    "    def predictTest(self,X_test,Y_test):\n",
    "        pyx = torch.sigmoid(torch.matmul(X_test,self.w) + self.b) #p(y|x) for the test data \n",
    "        pyx[pyx>=0.5] = 1\n",
    "        pyx[pyx<0.5] = 0\n",
    "        #Lets compare pyx with y_test\n",
    "        accuracy = (1-len(torch.nonzero(pyx-Y_test))/(Y_test.shape[1]))*100\n",
    "        return accuracy\n",
    "    "
   ]
  },
  {
   "cell_type": "code",
   "execution_count": 2,
   "metadata": {},
   "outputs": [],
   "source": [
    "# Load and split the test/train data\n",
    "data = np.load(\"Data.npy\", allow_pickle = True).item()\n",
    "X = data[\"X\"]\n",
    "Y = data[\"Y\"]\n",
    "\n",
    "### from here below we can define functions\n",
    "\n",
    "def get_data(X,Y,test_size):\n",
    "    #Split the data\n",
    "    X_train, X_test, Y_train, Y_test = train_test_split(X,Y,test_size=test_size)\n",
    "    X_train = torch.tensor(X_train,dtype=torch.float)\n",
    "    X_test = torch.tensor(X_test,dtype=torch.float)\n",
    "    Y_train = torch.tensor(Y_train,dtype=torch.float)\n",
    "    Y_test = torch.tensor(Y_test,dtype=torch.float)\n",
    "\n",
    "    # normalize X-data to be zero-mean\n",
    "    X_train = (X_train - X_train.mean(axis=0))/X_train.std(axis=0)\n",
    "    X_test = (X_test - X_train.mean(axis=0))/X_train.std(axis=0)\n",
    "    \n",
    "    #Transpose the Y data\n",
    "    Y_train = Y_train.t()\n",
    "    Y_test = Y_test.t()\n",
    "    return X_train, X_test, Y_train, Y_test\n",
    "\n",
    "def make_plots(loss):\n",
    "    plt.plot(loss)\n",
    "    plt.xlabel('Iterations')\n",
    "    plt.ylabel('Training Loss')\n",
    "    plt.show()\n",
    "    \n",
    "def logreg_model(test_size):\n",
    "    lr = 0.002\n",
    "    iterations = 10000\n",
    "    X_train, X_test, Y_train, Y_test = get_data(X,Y,test_size)\n",
    "    # create instance of Logistic Regression class\n",
    "    logreg = LogisticRegression(len(X[0]),len(Y[0]))\n",
    "    # Train the data\n",
    "    err = logreg.train(X_train,Y_train,lr,iterations)\n",
    "    # Get the accuracy of the model\n",
    "    accuracy = logreg.predictTest(X_test,Y_test)\n",
    "    loss = logreg.loss_track\n",
    "    print(\"The training loss is:\", err)\n",
    "    print(\"The accuracy using\",test_size,\"of the data as test data is\",np.around(accuracy,2),\"%.\")\n",
    "    make_plots(loss)\n"
   ]
  },
  {
   "cell_type": "markdown",
   "metadata": {},
   "source": [
    "Logistic Regression was implemented by using the Glorot Initializer to get initial values for $w$ and $b$. Gradient descent was used to optimize the $w$ and $b$ values, by iterating 10,000 times and using a learning rate of $\\eta=0.002$. Finally, the loss was calculated by the Binary Cross Entropy Loss.\n",
    "\n",
    "For a test size of 0.25:"
   ]
  },
  {
   "cell_type": "code",
   "execution_count": 4,
   "metadata": {},
   "outputs": [
    {
     "name": "stdout",
     "output_type": "stream",
     "text": [
      "Beginning iterations...\n",
      "Completed 10000 iterations. Time elapsed: 4.38s\n",
      "The training loss is: 0.38949412\n",
      "The accuracy using 0.25 of the data as test data is 84.45 %.\n"
     ]
    },
    {
     "data": {
      "image/png": "[encoded data removed]",
      "text/plain": [
       "<Figure size 432x288 with 1 Axes>"
      ]
     },
     "metadata": {
      "needs_background": "light"
     },
     "output_type": "display_data"
    }
   ],
   "source": [
    "logreg_model(0.25)"
   ]
  },
  {
   "cell_type": "markdown",
   "metadata": {},
   "source": [
    "Let's now vary the test sizes. Try test size = 0.20."
   ]
  },
  {
   "cell_type": "code",
   "execution_count": 5,
   "metadata": {},
   "outputs": [
    {
     "name": "stdout",
     "output_type": "stream",
     "text": [
      "Beginning iterations...\n",
      "Completed 10000 iterations. Time elapsed: 4.11s\n",
      "The training loss is: 0.3910789\n",
      "The accuracy using 0.2 of the data as test data is 83.43 %.\n"
     ]
    },
    {
     "data": {
      "image/png": "[encoded data removed]",
      "text/plain": [
       "<Figure size 432x288 with 1 Axes>"
      ]
     },
     "metadata": {
      "needs_background": "light"
     },
     "output_type": "display_data"
    }
   ],
   "source": [
    "logreg_model(0.20)"
   ]
  },
  {
   "cell_type": "markdown",
   "metadata": {},
   "source": [
    "Now let's try reducing the training data set by increasing the test size = 0.40. "
   ]
  },
  {
   "cell_type": "code",
   "execution_count": 6,
   "metadata": {},
   "outputs": [
    {
     "name": "stdout",
     "output_type": "stream",
     "text": [
      "Beginning iterations...\n",
      "Completed 10000 iterations. Time elapsed: 3.9s\n",
      "The training loss is: 0.38911676\n",
      "The accuracy using 0.4 of the data as test data is 83.14 %.\n"
     ]
    },
    {
     "data": {
      "image/png": "[encoded data removed]",
      "text/plain": [
       "<Figure size 432x288 with 1 Axes>"
      ]
     },
     "metadata": {
      "needs_background": "light"
     },
     "output_type": "display_data"
    }
   ],
   "source": [
    "logreg_model(0.40)"
   ]
  },
  {
   "cell_type": "markdown",
   "metadata": {},
   "source": [
    "Varying the test size using this method did not significantly change the result!\n",
    "To improve this model, the loss could be minimized faster by using stochastic gradient descent with momentum or adaptive moment estimation."
   ]
  },
  {
   "cell_type": "markdown",
   "metadata": {},
   "source": [
    "# Neural Network\n",
    "\n",
    "### Now, we will extend the model to a deep neural network with fully connected layers and repeat the previous task."
   ]
  },
  {
   "cell_type": "code",
   "execution_count": 3,
   "metadata": {},
   "outputs": [],
   "source": [
    "class NeuralNetwork:\n",
    "    def __init__(self,D_in, D_out,L,Q,typ):\n",
    "        self.D_in = D_in\n",
    "        self.D_out = D_out\n",
    "        self.typ = typ\n",
    "        self.L = L # L = number of hidden layers\n",
    "        self.Q = Q #Q = number of neurons in each layer, should be an array of length L\n",
    "        self.layer = 0 #This will display the hidden layer we're currently in\n",
    "        self.neurons = Q[self.layer]  #This will display how many neurons are in the hidden layer we're currently in.\n",
    "        self.loss_track = [] #keeps track of the loss over iterations\n",
    "        \n",
    "    def glorot_init(self):\n",
    "        D_in = self.D_in\n",
    "        D_out = self.D_out\n",
    "        w = np.zeros((D_in*D_out,self.Q[0],)) #W is d x Q\n",
    "        b = np.zeros(self.Q[0]) # b is 1 x Q\n",
    "        for i in range(0,self.Q[0]):\n",
    "            w[:,i] = np.random.normal(0, np.sqrt(2./(D_in + D_out)), D_in*D_out)\n",
    "        self.w = (torch.from_numpy(w).type(torch.FloatTensor)).requires_grad_(True)\n",
    "        self.b = (torch.from_numpy(b).type(torch.FloatTensor)).requires_grad_(True)\n",
    "    \n",
    "    def reset_weights(self):\n",
    "        #this will update the size of the weights based on which hidden layer we're in using Glorot Init.\n",
    "        L = self.layer\n",
    "        if L<self.L:\n",
    "            dim = self.neurons\n",
    "        elif L >= self.L:\n",
    "            dim = self.D_out #output layer will give dimensions of w = [Q(L-1)x d_out=1]\n",
    "        D_in = self.Q[L-1]\n",
    "        D_out = self.D_out\n",
    "        w = np.zeros((self.Q[L-1],dim)) #w is now Q(L-1) x Q(L)\n",
    "        b = np.zeros(dim) # b is 1 x Q(L)\n",
    "        for i in range(0,dim):\n",
    "            w[:,i] = np.random.normal(0, np.sqrt(2./(D_in + D_out)), D_in*D_out)\n",
    "        self.w = (torch.from_numpy(w).type(torch.FloatTensor)).requires_grad_(True)\n",
    "        self.b = (torch.from_numpy(b).type(torch.FloatTensor)).requires_grad_(True)\n",
    "    \n",
    "    def get_BCE_Loss(self,X,Y):\n",
    "        # Calculate the Binary Cross entropy loss\n",
    "        a = torch.sigmoid(torch.matmul(X,self.w)+self.b)\n",
    "        n = X.shape[0]\n",
    "        Loss =(torch.matmul(Y,torch.log(a))).sum() + (torch.matmul((1-Y),torch.log(1-a))).sum()\n",
    "        Loss = -(1/n)*Loss\n",
    "        return Loss\n",
    "\n",
    "    def act_func(self,X,w,b):\n",
    "        if self.typ=='sig':\n",
    "            H = torch.sigmoid(torch.matmul(X,w)+b)\n",
    "        elif self.typ=='tanh':\n",
    "            H = torch.tanh(torch.matmul(X,w)+b)\n",
    "        return H\n",
    "        \n",
    "    def graddes(self,X,Y,lr):\n",
    "        # Calculate w and b using gradient descent\n",
    "        maxiter= X.shape[0]*5\n",
    "        print('Beginning iterations in Layer',self.layer)\n",
    "        for i in range(0,maxiter):\n",
    "            err = self.get_BCE_Loss(X,Y)\n",
    "            self.loss_track.append(err)\n",
    "            err.backward(retain_graph=True)\n",
    "            with torch.no_grad():\n",
    "                self.w -=lr*self.w.grad\n",
    "                self.b -= lr*self.b.grad\n",
    "                self.w.grad.zero_()\n",
    "                self.b.grad.zero_()\n",
    "            err = err.data.numpy()\n",
    "            self.loss_track.append(err)\n",
    "        H = self.act_func(X,self.w,self.b)\n",
    "        print('Completed',maxiter,'iterations in Layer',self.layer,)\n",
    "        return err, H\n",
    "    \n",
    "    def train(self,X,Y,lr):\n",
    "        # optimize to get weights in each hidden layer\n",
    "        self.glorot_init()\n",
    "        L = self.L\n",
    "        t = time.time()\n",
    "        for i in range(0,L+1):\n",
    "            err, H = self.graddes(X,Y,lr)\n",
    "            X=H\n",
    "            #w = self.w #save the weights after the training\n",
    "            #b = self.b\n",
    "            if self.layer == 0:\n",
    "                w0 = self.w\n",
    "                b0=self.b\n",
    "            elif self.layer==1:\n",
    "                w1 = self.w\n",
    "                b1=self.b\n",
    "            elif self.layer ==2:\n",
    "                w2 = self.w\n",
    "                b2 = self.b\n",
    "            #could improve code here by making it universal, right now it's restribted to 2 hidden layers\n",
    "            self.layer +=1\n",
    "            if self.layer <= L:\n",
    "                self.reset_weights() #reset for next iteration\n",
    "        elapsed = time.time() - t\n",
    "        elapsed = np.around(elapsed,2)\n",
    "        print('Completed neural network training. Time elapsed: '+str(elapsed) + 's')\n",
    "        return err, w0, b0, w1, b1, w2, b2\n",
    "        \n",
    "    def predictTest(self,X_test,Y_test,w0, b0, w1, b1, w2, b2):\n",
    "        H0 = self.act_func(X_test,w0,b0)\n",
    "        H1 = self.act_func(H0,w1,b1)\n",
    "        pyx = self.act_func(H1,w2,b2)\n",
    "        pyx = pyx.t()\n",
    "        n = len(Y_test)\n",
    "        if self.typ == 'sig':\n",
    "            pyx[pyx>=0.5] = 1\n",
    "            pyx[pyx<0.5] = 0\n",
    "            #Lets compare pyx with y_test\n",
    "            accuracy = (1-len(torch.nonzero(pyx-Y_test))/(Y_test.shape[1]))*100\n",
    "        elif self.typ=='tanh':\n",
    "            #calculate L2 norm\n",
    "            accuracy = torch.sqrt(((pyx-Y_test)**2).sum())\n",
    "            accuracy = (1/n)*accuracy\n",
    "            accuracy = accuracy.data.numpy()\n",
    "        pyx = pyx.data.numpy()\n",
    "        return accuracy, pyx\n",
    "    "
   ]
  },
  {
   "cell_type": "code",
   "execution_count": 4,
   "metadata": {},
   "outputs": [],
   "source": [
    "def nn_model2(test_size):\n",
    "    lr = 0.002\n",
    "    X_train, X_test, Y_train, Y_test = get_data(X,Y,test_size)\n",
    "    # create instance of Logistic Regression class\n",
    "    typ = 'sig' # choosing activation function as sigmoid\n",
    "    L = 2 # choosing two hidden layers\n",
    "    Q = [25,25] # each hidden layer will have 25 neurons\n",
    "    nnmod = NeuralNetwork(len(X[0]),len(Y[0]),L,Q,typ)\n",
    "    # Train the data\n",
    "    err, w0, b0, w1, b1, w2, b2 = nnmod.train(X_train,Y_train,lr)\n",
    "    # Get the accuracy of the model\n",
    "    accuracy, pyx = nnmod.predictTest(X_test,Y_test,w0, b0, w1, b1, w2, b2)\n",
    "    loss = nnmod.loss_track\n",
    "    print(\"The training loss is:\", err)\n",
    "    print(\"The accuracy using\",test_size,\"of the data as test data is\",np.around(accuracy,2),\"%.\")\n",
    "    make_plots(loss)"
   ]
  },
  {
   "cell_type": "markdown",
   "metadata": {},
   "source": [
    "The Neural Network was initialized using Glorot Initialization, and the activation function used was a sigmoid function. Two hidden layers were used, with 25 neurons each. Gradient descent was used to optimize the $w$ and $b$ values in each hidden layer, by iterating 5n ~ 13,000 times and using a learning rate of $\\eta=0.002$. Finally, the loss was calculated by the Binary Cross Entropy Loss.\n",
    "\n",
    "The model prints out updates on the status of the calculation, so that while it is running the user can see what the model is doing. I incorporated this feature because it was taking some time to run.\n",
    "\n",
    "For a test size of 0.25:"
   ]
  },
  {
   "cell_type": "code",
   "execution_count": 7,
   "metadata": {},
   "outputs": [
    {
     "name": "stdout",
     "output_type": "stream",
     "text": [
      "Beginning iterations in Layer 0\n",
      "Completed 13005 iterations in Layer 0\n",
      "Beginning iterations in Layer 1\n",
      "Completed 13005 iterations in Layer 1\n",
      "Beginning iterations in Layer 2\n",
      "Completed 13005 iterations in Layer 2\n",
      "Completed neural network training. Time elapsed: 110.75s\n",
      "The training loss is: 0.43179914\n",
      "The accuracy using 0.25 of the data as test data is 83.18 %.\n"
     ]
    },
    {
     "data": {
      "image/png": "[encoded data removed]",
      "text/plain": [
       "<Figure size 432x288 with 1 Axes>"
      ]
     },
     "metadata": {
      "needs_background": "light"
     },
     "output_type": "display_data"
    }
   ],
   "source": [
    "nn_model2(0.25)"
   ]
  },
  {
   "cell_type": "markdown",
   "metadata": {},
   "source": [
    "Now let's try varying the test size, like earlier. Let's increase the model to train using 80% of the training data."
   ]
  },
  {
   "cell_type": "code",
   "execution_count": 6,
   "metadata": {},
   "outputs": [
    {
     "name": "stdout",
     "output_type": "stream",
     "text": [
      "Beginning iterations in Layer 0\n",
      "Completed 13875 iterations in Layer 0\n",
      "Beginning iterations in Layer 1\n",
      "Completed 13875 iterations in Layer 1\n",
      "Beginning iterations in Layer 2\n",
      "Completed 13875 iterations in Layer 2\n",
      "Completed neural network training. Time elapsed: 90.1s\n",
      "The training loss is: 0.42817086\n",
      "The accuracy using 0.2 of the data as test data is 84.44 %.\n"
     ]
    },
    {
     "data": {
      "image/png": "[encoded data removed]",
      "text/plain": [
       "<Figure size 432x288 with 1 Axes>"
      ]
     },
     "metadata": {
      "needs_background": "light"
     },
     "output_type": "display_data"
    }
   ],
   "source": [
    "nn_model2(0.20)"
   ]
  },
  {
   "cell_type": "markdown",
   "metadata": {},
   "source": [
    "Let's make the model train using only 60% of the training data."
   ]
  },
  {
   "cell_type": "code",
   "execution_count": 7,
   "metadata": {},
   "outputs": [
    {
     "name": "stdout",
     "output_type": "stream",
     "text": [
      "Beginning iterations in Layer 0\n",
      "Completed 10405 iterations in Layer 0\n",
      "Beginning iterations in Layer 1\n",
      "Completed 10405 iterations in Layer 1\n",
      "Beginning iterations in Layer 2\n",
      "Completed 10405 iterations in Layer 2\n",
      "Completed neural network training. Time elapsed: 72.44s\n",
      "The training loss is: 0.45175177\n",
      "The accuracy using 0.4 of the data as test data is 82.56 %.\n"
     ]
    },
    {
     "data": {
      "image/png": "[encoded data removed]",
      "text/plain": [
       "<Figure size 432x288 with 1 Axes>"
      ]
     },
     "metadata": {
      "needs_background": "light"
     },
     "output_type": "display_data"
    }
   ],
   "source": [
    "nn_model2(0.40)"
   ]
  },
  {
   "cell_type": "markdown",
   "metadata": {},
   "source": [
    "Again, just like when using the regression model, changing the size of the data did not seem to change the accuracy significantly. Implemented in a real life situation, the basic logistic regression model should work fine, especially as it is quicker and provides a similar level of accuracy.\n",
    "\n",
    "Additionally, this model used GD as the optimizer. It converges quite slowly, and even after the first hidden layer, had some issues converging. This can be seen in the noticable peaks in the plots. After the first peak, the loss isn't minimized any further than it already was in the first hidden layer. To improve how quickly the loss is minimized, a more efficient optimizer can be used, such as incorporating momentum or using ADAM. Alternatively, the learning rate can be adjusted."
   ]
  },
  {
   "cell_type": "code",
   "execution_count": null,
   "metadata": {},
   "outputs": [],
   "source": []
  }
 ],
 "metadata": {
  "kernelspec": {
   "display_name": "Python 3",
   "language": "python",
   "name": "python3"
  },
  "language_info": {
   "codemirror_mode": {
    "name": "ipython",
    "version": 3
   },
   "file_extension": ".py",
   "mimetype": "text/x-python",
   "name": "python",
   "nbconvert_exporter": "python",
   "pygments_lexer": "ipython3",
   "version": "3.7.4"
  }
 },
 "nbformat": 4,
 "nbformat_minor": 2
}
